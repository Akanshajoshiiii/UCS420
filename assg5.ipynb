{
  "nbformat": 4,
  "nbformat_minor": 0,
  "metadata": {
    "colab": {
      "provenance": []
    },
    "kernelspec": {
      "name": "python3",
      "display_name": "Python 3"
    },
    "language_info": {
      "name": "python"
    }
  },
  "cells": [
    {
      "cell_type": "code",
      "execution_count": null,
      "metadata": {
        "id": "2K4TFD7usto-"
      },
      "outputs": [],
      "source": []
    },
    {
      "cell_type": "markdown",
      "source": [
        "Q.1 For the array gfg = np.matrix('[4, 1, 9; 12, 3, 1; 4, 5, 6]'), Find  \n",
        "i. Sum of all elements  \n",
        "ii. Sum of all elements row-wise  \n",
        "iii. Sum of all elements column-wise  "
      ],
      "metadata": {
        "id": "Hi7yixXHs5CR"
      }
    },
    {
      "cell_type": "code",
      "source": [
        "import numpy as np\n",
        "import matplotlib.pyplot as plt\n",
        "\n",
        "\n",
        "gfg = np.matrix('[4, 1, 9; 12, 3, 1; 4, 5, 6]')\n",
        "\n",
        "\n",
        "total_sum = np.sum(gfg)\n",
        "print(\"Sum of all elements:\", total_sum)\n",
        "\n",
        "\n",
        "row_sum = np.sum(gfg, axis=1)\n",
        "print(\"Row-wise sum:\", row_sum)\n",
        "\n",
        "\n",
        "col_sum = np.sum(gfg, axis=0)\n",
        "print(\"Column-wise sum:\", col_sum)"
      ],
      "metadata": {
        "colab": {
          "base_uri": "https://localhost:8080/"
        },
        "id": "V6nDtyK7s_PG",
        "outputId": "521fc9d0-9a85-43c5-9930-a527b747b917"
      },
      "execution_count": 1,
      "outputs": [
        {
          "output_type": "stream",
          "name": "stdout",
          "text": [
            "Sum of all elements: 45\n",
            "Row-wise sum: [[14]\n",
            " [16]\n",
            " [15]]\n",
            "Column-wise sum: [[20  9 16]]\n"
          ]
        }
      ]
    },
    {
      "cell_type": "markdown",
      "source": [
        "Q.2 (a)For the array: array = np.array([10, 52, 62, 16, 16, 54, 453]), find  \n",
        "i. Sorted array  \n",
        "ii. Indices of sorted array  \n",
        "iii. 4 smallest elements  \n",
        "iv. 5 largest elements  \n",
        "(b) For the array: array = np.array([1.0, 1.2, 2.2, 2.0, 3.0, 2.0]), find  \n",
        "i. Integer elements only  \n",
        "ii. Float elements only"
      ],
      "metadata": {
        "id": "BQ1avnhTtO8y"
      }
    },
    {
      "cell_type": "code",
      "source": [
        "\n",
        "array = np.array([10, 52, 62, 16, 16, 54, 453])\n",
        "\n",
        "\n",
        "sorted_array = np.sort(array)\n",
        "print(\"Sorted array:\", sorted_array)\n",
        "\n",
        "sorted_indices = np.argsort(array)\n",
        "print(\"Indices of sorted array:\", sorted_indices)\n",
        "\n",
        "smallest_elements = np.sort(array)[:4]\n",
        "print(\"4 smallest elements:\", smallest_elements)\n",
        "\n",
        "\n",
        "largest_elements = np.sort(array)[-5:]\n",
        "print(\"5 largest elements:\", largest_elements)\n",
        "\n",
        "array_b = np.array([1.0, 1.2, 2.2, 2.0, 3.0, 2.0])\n",
        "\n",
        "int_elements = array_b[array_b == np.floor(array_b)]\n",
        "print(\"Integer elements:\", int_elements)\n",
        "\n",
        "\n",
        "float_elements = array_b[array_b != np.floor(array_b)]\n",
        "print(\"Float elements:\", float_elements)"
      ],
      "metadata": {
        "colab": {
          "base_uri": "https://localhost:8080/"
        },
        "id": "VxJ0VGwetWMQ",
        "outputId": "e4388adf-7473-4f63-cee9-feddf3b1da42"
      },
      "execution_count": 2,
      "outputs": [
        {
          "output_type": "stream",
          "name": "stdout",
          "text": [
            "Sorted array: [ 10  16  16  52  54  62 453]\n",
            "Indices of sorted array: [0 3 4 1 5 2 6]\n",
            "4 smallest elements: [10 16 16 52]\n",
            "5 largest elements: [ 16  52  54  62 453]\n",
            "Integer elements: [1. 2. 3. 2.]\n",
            "Float elements: [1.2 2.2]\n"
          ]
        }
      ]
    },
    {
      "cell_type": "markdown",
      "source": [
        "Q.3 You are given a weekly sales dataset and need to perform various operations\n",
        "using NumPy broadcasting.\n",
        "a) Generate your unique sales dataset:\n",
        " Take the sum of the ASCII values of the initials of your first and last\n",
        "name. Call this value X. (If your initials are A B → ASCII sum = 65\n",
        "+ 66 = 131 → sales = [131, 181, 231, 281, 331].)\n",
        " Create a NumPy array sales with values [X, X+50, X+100, X+150,\n",
        "X+200].\n",
        "\n",
        "b) Compute your personalized tax rate as ((X % 5) + 5) / 100.\n",
        " Use broadcasting to apply this tax rate to each sales value.\n",
        "c) Adjust sales based on discount:\n",
        " If sales < X+100, apply a 5% discount.\n",
        " If sales >= X+100, apply a 10% discount.\n",
        "d) Expand sales data for multiple weeks:\n",
        " Create a 3×5 matrix representing three weeks of sales by stacking\n",
        "sales three times using broadcasting.\n",
        " Increase sales by 2% per week using element-wise broadcasting."
      ],
      "metadata": {
        "id": "HRj5fBLotsDD"
      }
    },
    {
      "cell_type": "code",
      "source": [
        "\n",
        "initials = 'AJ'\n",
        "X = sum(ord(char) for char in initials)\n",
        "sales = np.array([X, X+50, X+100, X+150, X+200])\n",
        "print(\"Sales data:\", sales)\n",
        "\n",
        "\n",
        "tax_rate = ((X % 5) + 5) / 100\n",
        "tax_applied = sales * tax_rate\n",
        "print(\"Tax applied:\", tax_applied)\n",
        "\n",
        "\n",
        "sales_discounted = np.where(sales < X+100, sales * 0.95, sales * 0.90)\n",
        "print(\"Discounted sales:\", sales_discounted)\n",
        "\n",
        "\n",
        "weekly_sales = np.tile(sales, (3, 1))\n",
        "weekly_sales = weekly_sales * (1 + np.arange(3).reshape(-1, 1) * 0.02)\n",
        "print(\"Weekly sales with 2% increase per week:\\n\", weekly_sales)\n"
      ],
      "metadata": {
        "colab": {
          "base_uri": "https://localhost:8080/"
        },
        "id": "6gAa1FLRtrlI",
        "outputId": "77ab037d-2b69-4c0f-ec53-861a750bf8a3"
      },
      "execution_count": 3,
      "outputs": [
        {
          "output_type": "stream",
          "name": "stdout",
          "text": [
            "Sales data: [139 189 239 289 339]\n",
            "Tax applied: [12.51 17.01 21.51 26.01 30.51]\n",
            "Discounted sales: [132.05 179.55 215.1  260.1  305.1 ]\n",
            "Weekly sales with 2% increase per week:\n",
            " [[139.   189.   239.   289.   339.  ]\n",
            " [141.78 192.78 243.78 294.78 345.78]\n",
            " [144.56 196.56 248.56 300.56 352.56]]\n"
          ]
        }
      ]
    },
    {
      "cell_type": "markdown",
      "source": [
        "Q4. Generate x values using np.linspace() from -10 to 10 with 100 points. Use\n",
        "each function from the list below and compute y values using NumPy:\n",
        " Y = x2\n",
        " Y = sin(x)\n",
        " Y = ex\n",
        " Y = log(|x| + 1)\n",
        "Plot the chosen function using Matplotlib. Add title, labels, and grid for clarity."
      ],
      "metadata": {
        "id": "uUEGD6G2uDNU"
      }
    },
    {
      "cell_type": "code",
      "source": [
        "x = np.linspace(-10, 10, 100)\n",
        "\n",
        "\n",
        "y1 = x ** 2\n",
        "y2 = np.sin(x)\n",
        "y3 = np.exp(x)\n",
        "y4 = np.log(np.abs(x) + 1)\n",
        "\n",
        "plt.figure(figsize=(10, 6))\n",
        "plt.plot(x, y1, label='Y = x^2')\n",
        "plt.plot(x, y2, label='Y = sin(x)')\n",
        "plt.plot(x, y3, label='Y = exp(x)')\n",
        "plt.plot(x, y4, label='Y = log(|x| + 1)')\n",
        "\n",
        "plt.title(\"Function Plots\")\n",
        "plt.xlabel(\"X values\")\n",
        "plt.ylabel(\"Y values\")\n",
        "plt.legend()\n",
        "plt.grid()\n",
        "plt.show()\n"
      ],
      "metadata": {
        "colab": {
          "base_uri": "https://localhost:8080/",
          "height": 477
        },
        "id": "Iur_FkGzuGLp",
        "outputId": "091f1aff-e7a9-4cf6-838a-2574d469d277"
      },
      "execution_count": 4,
      "outputs": [
        {
          "output_type": "display_data",
          "data": {
            "text/plain": [
              "<Figure size 1000x600 with 1 Axes>"
            ],
            "image/png": "[encoded data removed]"
          },
          "metadata": {}
        }
      ]
    }
  ]
}
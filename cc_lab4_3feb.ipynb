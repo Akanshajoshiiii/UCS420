{
  "nbformat": 4,
  "nbformat_minor": 0,
  "metadata": {
    "colab": {
      "provenance": []
    },
    "kernelspec": {
      "name": "python3",
      "display_name": "Python 3"
    },
    "language_info": {
      "name": "python"
    }
  },
  "cells": [
    {
      "cell_type": "code",
      "execution_count": null,
      "metadata": {
        "id": "QeAKn1jEHwAR"
      },
      "outputs": [],
      "source": []
    },
    {
      "cell_type": "markdown",
      "source": [
        "Q.1 Write a program to create a NumPy 1D-array with 5 elements and perform basic\n",
        "operations like:  \n",
        "a) Addition of 2 in all the element  \n",
        "b) Multiply 3 with all the elements  \n",
        "c) Divide every element by 2"
      ],
      "metadata": {
        "id": "EN_VSmAcKUKA"
      }
    },
    {
      "cell_type": "code",
      "source": [
        "import numpy as np\n",
        "a=np.array([1,2,3,4,5])\n",
        "print(a)\n",
        "addition=a+2\n",
        "print(addition)\n",
        "multi=a*2\n",
        "print(multi)\n",
        "div=a/2\n",
        "print(div)\n"
      ],
      "metadata": {
        "colab": {
          "base_uri": "https://localhost:8080/"
        },
        "id": "DEcAj6A0KYba",
        "outputId": "ad04a728-602e-4dbb-c35a-f978e7bfadb2"
      },
      "execution_count": 2,
      "outputs": [
        {
          "output_type": "stream",
          "name": "stdout",
          "text": [
            "[1 2 3 4 5]\n",
            "[3 4 5 6 7]\n",
            "[ 2  4  6  8 10]\n",
            "[0.5 1.  1.5 2.  2.5]\n"
          ]
        }
      ]
    },
    {
      "cell_type": "markdown",
      "source": [
        "Q.2 Questions on Basic NumPy Array:  \n",
        "a) Reverse the NumPy array: arr = np.array([1, 2, 3, 6, 4, 5])\n",
        "b) Find the most frequent value and their indice(s) in the following arrays:  \n",
        "i. x = np.array([1,2,3,4,5,1,2,1,1,1])  \n",
        "ii. y = np.array([1, 1, 1, 2, 3, 4, 2, 4, 3, 3, ])"
      ],
      "metadata": {
        "id": "yXUPq90BKSjK"
      }
    },
    {
      "cell_type": "code",
      "source": [
        "arr=np.array([1,2,3,4,5])\n",
        "rev=arr[::-1]\n",
        "print(rev)\n",
        "x = np.array([1,2,3,4,5,1,2,1,1,1])\n",
        "print(x)\n",
        "print(\"Most freq value is \")\n",
        "mfv=np.bincount(x).argmax()\n",
        "indices = np.where(x == mfv)[0]\n",
        "print(\"Indices of most frequent value:\", indices)\n",
        "\n"
      ],
      "metadata": {
        "colab": {
          "base_uri": "https://localhost:8080/"
        },
        "id": "5jdaYVB0LPZB",
        "outputId": "2b8a05fb-f65d-402b-c0b2-6885df5d2cfb"
      },
      "execution_count": 3,
      "outputs": [
        {
          "output_type": "stream",
          "name": "stdout",
          "text": [
            "[5 4 3 2 1]\n",
            "[1 2 3 4 5 1 2 1 1 1]\n",
            "Most freq value is \n",
            "Indices of most frequent value: [0 5 7 8 9]\n"
          ]
        }
      ]
    },
    {
      "cell_type": "markdown",
      "source": [
        "Q.3 For the given 2-D array arr=np.array([10, 20, 30], [40, 50, 60], [70, 80, 90]), access\n",
        "elements using row and column indices as follows:  \n",
        "a) Access 1st row, 2nd column  \n",
        "b) Access 3rd row, 1st column"
      ],
      "metadata": {
        "id": "D_akRvY97w7n"
      }
    },
    {
      "cell_type": "code",
      "source": [
        "arr=np.array([[10,20,30],[40,50,60],[70,80,90]])\n",
        "print(arr[0,1])\n",
        "print(arr[2,0])"
      ],
      "metadata": {
        "colab": {
          "base_uri": "https://localhost:8080/"
        },
        "id": "KapAjQCC71mm",
        "outputId": "c3ca5458-7ec9-4187-b670-7f81bc6a4dc1"
      },
      "execution_count": 6,
      "outputs": [
        {
          "output_type": "stream",
          "name": "stdout",
          "text": [
            "20\n",
            "70\n"
          ]
        }
      ]
    },
    {
      "cell_type": "markdown",
      "source": [
        "Q.4 Write program to create an 1-D NumPy array named <<Your Name>> with evenly  \n",
        "spaced 25 numbers from 10 to 100 using linspace().    Print the dimensions of the array,  \n",
        "shape,   total elements,   the data type of each element and total number of bytes consumed\n",
        "by the array.   Find the transpose of this array using reshape() attribute. Can we do the same\n",
        "with T attribute?"
      ],
      "metadata": {
        "id": "AZztXkSM-BWV"
      }
    },
    {
      "cell_type": "code",
      "source": [
        "akansha=np.linspace(10,100,25)\n",
        "print(akansha)\n",
        "print(akansha.ndim)\n",
        "print(akansha.shape)  #no of ele in single dimension\n",
        "print(akansha.dtype)   #data type of elements\n",
        "print(akansha.nbytes)    #array takes total 200 bytes in the memory{25*8(float)=200}\n",
        "transposed_array=akansha.reshape(25,1) #Convert to a column vector\n",
        "print(transposed_array)\n",
        "print(akansha.T) #same (25,) coz .T has no effect on 2D Arrays"
      ],
      "metadata": {
        "colab": {
          "base_uri": "https://localhost:8080/"
        },
        "id": "FpOO3GMT9uwT",
        "outputId": "5da6222a-b24c-4d10-87dc-f6993ba7f514"
      },
      "execution_count": 9,
      "outputs": [
        {
          "output_type": "stream",
          "name": "stdout",
          "text": [
            "[ 10.    13.75  17.5   21.25  25.    28.75  32.5   36.25  40.    43.75\n",
            "  47.5   51.25  55.    58.75  62.5   66.25  70.    73.75  77.5   81.25\n",
            "  85.    88.75  92.5   96.25 100.  ]\n",
            "1\n",
            "(25,)\n",
            "float64\n",
            "200\n",
            "[[ 10.  ]\n",
            " [ 13.75]\n",
            " [ 17.5 ]\n",
            " [ 21.25]\n",
            " [ 25.  ]\n",
            " [ 28.75]\n",
            " [ 32.5 ]\n",
            " [ 36.25]\n",
            " [ 40.  ]\n",
            " [ 43.75]\n",
            " [ 47.5 ]\n",
            " [ 51.25]\n",
            " [ 55.  ]\n",
            " [ 58.75]\n",
            " [ 62.5 ]\n",
            " [ 66.25]\n",
            " [ 70.  ]\n",
            " [ 73.75]\n",
            " [ 77.5 ]\n",
            " [ 81.25]\n",
            " [ 85.  ]\n",
            " [ 88.75]\n",
            " [ 92.5 ]\n",
            " [ 96.25]\n",
            " [100.  ]]\n",
            "[ 10.    13.75  17.5   21.25  25.    28.75  32.5   36.25  40.    43.75\n",
            "  47.5   51.25  55.    58.75  62.5   66.25  70.    73.75  77.5   81.25\n",
            "  85.    88.75  92.5   96.25 100.  ]\n"
          ]
        }
      ]
    },
    {
      "cell_type": "markdown",
      "source": [
        "Q5. Create a 2-D Array of three rows and four columns, named ucs420_<your_name>>\n",
        "with following values – 10, 20, 30, 40, 50, 60, 70, 80, 90, 15, 20, 35.   Compute the mean,\n",
        "median, max, min, unique elements. Reshape the array to four rows and three columns and\n",
        "name it as reshaped_ ucs420_<your_name>>. Resize the array to two rows and three\n",
        "columns and name it as resized_ ucs420_<your_name>>."
      ],
      "metadata": {
        "id": "QQo80yGVAUlA"
      }
    },
    {
      "cell_type": "code",
      "source": [
        "ucs420_akansha=np.array([[10,20,30,40],\n",
        "                         [50,60,70,80],\n",
        "                         [90,15,20,35]])\n",
        "print(np.mean(ucs420_akansha))\n",
        "print(np.median(ucs420_akansha))\n",
        "print(np.max(ucs420_akansha))\n",
        "print(np.min(ucs420_akansha))\n",
        "print(np.unique(ucs420_akansha))\n",
        "print(\"reshaped array\")\n",
        "reshaped_ucs420_akansha=ucs420_akansha.reshape(4,3)\n",
        "print(reshaped_ucs420_akansha)\n",
        "print(\"resized array\")\n",
        "resized_ucs420_akansha=np.resize(ucs420_akansha,(2,3))\n",
        "print(resized_ucs420_akansha)"
      ],
      "metadata": {
        "colab": {
          "base_uri": "https://localhost:8080/"
        },
        "id": "2_6FIE5EAZVE",
        "outputId": "41858626-fc61-4414-c89c-160e18301daf"
      },
      "execution_count": 12,
      "outputs": [
        {
          "output_type": "stream",
          "name": "stdout",
          "text": [
            "43.333333333333336\n",
            "37.5\n",
            "90\n",
            "10\n",
            "[10 15 20 30 35 40 50 60 70 80 90]\n",
            "reshaped array\n",
            "[[10 20 30]\n",
            " [40 50 60]\n",
            " [70 80 90]\n",
            " [15 20 35]]\n",
            "resized array\n",
            "[[10 20 30]\n",
            " [40 50 60]]\n"
          ]
        }
      ]
    },
    {
      "cell_type": "markdown",
      "source": [
        "Gyaan:\n",
        "1. reshape()  \n",
        "✅ **Creates a new view of the array without modifying the original.  **\n",
        "\n",
        "✅ Requires the new shape to be compatible with the original number of elements.\n",
        "*italicised text*\n",
        "\n",
        "\n",
        "✅ Raises an error if the total number of elements does not match.\n",
        "\n",
        "\n",
        "2. resize()  \n",
        "✅ **Modifies the original array in place (if applied directly)**.\n",
        "\n",
        "✅ Does not require the total number of elements to match—it adds or removes elements as needed.  \n",
        "\n",
        "✅ If the new shape has more elements, it fills extra spaces with repeated values (or 0 for uninitialized arrays)."
      ],
      "metadata": {
        "id": "hGVCXv8PBlDu"
      }
    }
  ]
}
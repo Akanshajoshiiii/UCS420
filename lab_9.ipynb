{
  "nbformat": 4,
  "nbformat_minor": 0,
  "metadata": {
    "colab": {
      "provenance": []
    },
    "kernelspec": {
      "name": "python3",
      "display_name": "Python 3"
    },
    "language_info": {
      "name": "python"
    }
  },
  "cells": [
    {
      "cell_type": "markdown",
      "source": [
        "Q1. Write a unique paragraph (5-6 sentences) about your favorite topic (e.g., sports,\n",
        "technology, food, books, etc.).\n",
        "1. Convert text to lowercase and remove punctuaƟon.\n",
        "2. Tokenize the text into words and sentences.\n",
        "3. Remove stopwords (using NLTK's stopwords list).\n",
        "4. Display word frequency distribuƟon (excluding stopwords).\n"
      ],
      "metadata": {
        "id": "W26uk9VnNx2p"
      }
    },
    {
      "cell_type": "code",
      "source": [
        "import nltk"
      ],
      "metadata": {
        "id": "ctkWWI-PN3mA"
      },
      "execution_count": 40,
      "outputs": []
    },
    {
      "cell_type": "code",
      "source": [
        "text='Artificial Intelligence is transforming the world around us. From voice assistants like Siri and Alexa to self-driving cars and smart recommendations on Netflix, AI is everywhere. It helps businesses make better decisions, doctors diagnose diseases more accurately, and even helps artists generate new forms of creativity. However, with great power comes responsibility. Ethical concerns, data privacy, and bias in AI algorithms are important issues that need to be addressed as we continue to advance in this field.'"
      ],
      "metadata": {
        "id": "kD1-033oM3t1"
      },
      "execution_count": 41,
      "outputs": []
    },
    {
      "cell_type": "markdown",
      "source": [
        "**1**"
      ],
      "metadata": {
        "id": "Z_7HUmkxPtYn"
      }
    },
    {
      "cell_type": "code",
      "source": [
        "def lower_case(text):\n",
        "  return text.lower()\n",
        "lower_case(text)"
      ],
      "metadata": {
        "colab": {
          "base_uri": "https://localhost:8080/",
          "height": 127
        },
        "id": "oIWZ1bWCNfBQ",
        "outputId": "cdc1bd2d-8daa-4434-f821-ad9bd24aa65a"
      },
      "execution_count": 42,
      "outputs": [
        {
          "output_type": "execute_result",
          "data": {
            "text/plain": [
              "'artificial intelligence is transforming the world around us. from voice assistants like siri and alexa to self-driving cars and smart recommendations on netflix, ai is everywhere. it helps businesses make better decisions, doctors diagnose diseases more accurately, and even helps artists generate new forms of creativity. however, with great power comes responsibility. ethical concerns, data privacy, and bias in ai algorithms are important issues that need to be addressed as we continue to advance in this field.'"
            ],
            "application/vnd.google.colaboratory.intrinsic+json": {
              "type": "string"
            }
          },
          "metadata": {},
          "execution_count": 42
        }
      ]
    },
    {
      "cell_type": "code",
      "source": [
        "import string\n",
        "def remove_punct(text):\n",
        "  ans=str.maketrans('', '', string.punctuation)\n",
        "  #if \"s\",\"r\", all s will get replaced with r\n",
        "  return text.translate(ans)\n",
        "remove_punct(text)"
      ],
      "metadata": {
        "colab": {
          "base_uri": "https://localhost:8080/",
          "height": 127
        },
        "id": "6fW3yIbBOx63",
        "outputId": "d0449b95-4973-42a2-f560-5c682de41f9b"
      },
      "execution_count": 43,
      "outputs": [
        {
          "output_type": "execute_result",
          "data": {
            "text/plain": [
              "'Artificial Intelligence is transforming the world around us From voice assistants like Siri and Alexa to selfdriving cars and smart recommendations on Netflix AI is everywhere It helps businesses make better decisions doctors diagnose diseases more accurately and even helps artists generate new forms of creativity However with great power comes responsibility Ethical concerns data privacy and bias in AI algorithms are important issues that need to be addressed as we continue to advance in this field'"
            ],
            "application/vnd.google.colaboratory.intrinsic+json": {
              "type": "string"
            }
          },
          "metadata": {},
          "execution_count": 43
        }
      ]
    },
    {
      "cell_type": "markdown",
      "source": [
        "**2**"
      ],
      "metadata": {
        "id": "resmDEbjNrPv"
      }
    },
    {
      "cell_type": "code",
      "source": [
        "nltk.download('punkt_tab')\n",
        "\n",
        "\n",
        "\n"
      ],
      "metadata": {
        "colab": {
          "base_uri": "https://localhost:8080/"
        },
        "id": "VBHAOtxlocIi",
        "outputId": "35e0fe1d-b542-48e4-cd41-ff20ae275985"
      },
      "execution_count": 44,
      "outputs": [
        {
          "output_type": "stream",
          "name": "stderr",
          "text": [
            "[nltk_data] Downloading package punkt_tab to /root/nltk_data...\n",
            "[nltk_data]   Package punkt_tab is already up-to-date!\n"
          ]
        },
        {
          "output_type": "execute_result",
          "data": {
            "text/plain": [
              "True"
            ]
          },
          "metadata": {},
          "execution_count": 44
        }
      ]
    },
    {
      "cell_type": "code",
      "source": [
        "word_token=nltk.word_tokenize(text)\n",
        "print(word_token)\n",
        "\n",
        "sent_token=nltk.sent_tokenize(text)\n",
        "print(sent_token)"
      ],
      "metadata": {
        "colab": {
          "base_uri": "https://localhost:8080/"
        },
        "id": "aZwpGD0Kh-4I",
        "outputId": "8fc19461-9d5f-49a0-c967-a2812351611f"
      },
      "execution_count": 45,
      "outputs": [
        {
          "output_type": "stream",
          "name": "stdout",
          "text": [
            "['Artificial', 'Intelligence', 'is', 'transforming', 'the', 'world', 'around', 'us', '.', 'From', 'voice', 'assistants', 'like', 'Siri', 'and', 'Alexa', 'to', 'self-driving', 'cars', 'and', 'smart', 'recommendations', 'on', 'Netflix', ',', 'AI', 'is', 'everywhere', '.', 'It', 'helps', 'businesses', 'make', 'better', 'decisions', ',', 'doctors', 'diagnose', 'diseases', 'more', 'accurately', ',', 'and', 'even', 'helps', 'artists', 'generate', 'new', 'forms', 'of', 'creativity', '.', 'However', ',', 'with', 'great', 'power', 'comes', 'responsibility', '.', 'Ethical', 'concerns', ',', 'data', 'privacy', ',', 'and', 'bias', 'in', 'AI', 'algorithms', 'are', 'important', 'issues', 'that', 'need', 'to', 'be', 'addressed', 'as', 'we', 'continue', 'to', 'advance', 'in', 'this', 'field', '.']\n",
            "['Artificial Intelligence is transforming the world around us.', 'From voice assistants like Siri and Alexa to self-driving cars and smart recommendations on Netflix, AI is everywhere.', 'It helps businesses make better decisions, doctors diagnose diseases more accurately, and even helps artists generate new forms of creativity.', 'However, with great power comes responsibility.', 'Ethical concerns, data privacy, and bias in AI algorithms are important issues that need to be addressed as we continue to advance in this field.']\n"
          ]
        }
      ]
    },
    {
      "cell_type": "markdown",
      "source": [
        "3. 3. Remove stopwords (using NLTK's stopwords list).\n"
      ],
      "metadata": {
        "id": "FracljfHko80"
      }
    },
    {
      "cell_type": "code",
      "source": [
        "from nltk.corpus import stopwords\n",
        "nltk.download('stopwords')\n",
        "\n",
        "stop_words=set(stopwords.words( 'english')) #to remove duplicates use set\n",
        "print(stop_words)\n",
        "\n"
      ],
      "metadata": {
        "colab": {
          "base_uri": "https://localhost:8080/"
        },
        "id": "wuBLOaD-kuPr",
        "outputId": "b53c6708-92ea-4916-c229-ecb4decd8893"
      },
      "execution_count": 46,
      "outputs": [
        {
          "output_type": "stream",
          "name": "stdout",
          "text": [
            "{'was', 'having', 'be', 'doing', 'down', \"mightn't\", 'needn', \"shan't\", 'his', 'am', 't', 'but', 'didn', 'she', 'o', 'so', \"that'll\", 'they', 'whom', 'you', \"i'm\", 'why', 'through', 'up', 'itself', 'yourself', 're', 'same', \"shouldn't\", 'isn', 'only', \"they're\", 'very', \"you've\", 'the', 'as', 'were', 'for', 'no', 'them', 'herself', \"mustn't\", \"you'd\", 'is', 'hers', \"i'll\", 'i', 'ain', 'been', 'before', 'too', \"aren't\", 'their', 'himself', 'such', 'him', 'haven', \"she'll\", 'nor', \"they've\", 've', \"i've\", 'now', 'this', \"don't\", 'just', 'don', 'mightn', \"i'd\", \"we'd\", 'y', 'not', 'both', 'over', 'a', 'm', 'won', \"couldn't\", \"you're\", 'and', \"wouldn't\", \"needn't\", 'couldn', \"hadn't\", 'other', 'do', \"wasn't\", 'wasn', \"he'd\", \"didn't\", 'themselves', 'while', \"weren't\", 'some', 'after', 'most', 'own', 'weren', 'myself', 'which', \"isn't\", 'out', 'here', \"you'll\", 'once', 'of', 'what', \"it'd\", \"hasn't\", 'ourselves', 'then', 'how', 'below', 'my', 'doesn', 'at', 'off', 'aren', 'mustn', 'until', 'shouldn', 'an', 'yourselves', 'when', \"haven't\", 'her', 'because', 'ma', 'its', \"should've\", 'these', 'those', 'that', 'ours', 'hadn', 'few', 'our', \"she'd\", 'has', 'me', 'against', 'with', 'll', 'wouldn', 's', 'he', 'into', 'to', \"they'd\", \"it'll\", 'in', 'further', \"we're\", 'being', \"we'll\", 'about', 'are', 'more', 'or', \"he's\", 'shan', 'theirs', 'had', 'than', 'have', 'hasn', 'where', \"we've\", 'does', 'can', \"doesn't\", 'any', 'your', \"they'll\", 'yours', 'we', \"it's\", 'under', 'during', 'should', \"she's\", 'by', 'did', \"he'll\", 'on', 'from', \"won't\", 'above', 'there', 'again', 'who', 'if', 'it', 'each', 'will', 'between', 'all', 'd'}\n"
          ]
        },
        {
          "output_type": "stream",
          "name": "stderr",
          "text": [
            "[nltk_data] Downloading package stopwords to /root/nltk_data...\n",
            "[nltk_data]   Package stopwords is already up-to-date!\n"
          ]
        }
      ]
    },
    {
      "cell_type": "code",
      "source": [
        "filtered_words=[] #no stop words\n",
        "for word in word_token:              #take tokenise words\n",
        "  if word not in stop_words:\n",
        "    filtered_words.append(word)\n",
        "print(filtered_words)"
      ],
      "metadata": {
        "colab": {
          "base_uri": "https://localhost:8080/"
        },
        "id": "fsHav4IHrazA",
        "outputId": "7352d991-036f-4c76-f3dc-edcee3868db2"
      },
      "execution_count": 47,
      "outputs": [
        {
          "output_type": "stream",
          "name": "stdout",
          "text": [
            "['Artificial', 'Intelligence', 'transforming', 'world', 'around', 'us', '.', 'From', 'voice', 'assistants', 'like', 'Siri', 'Alexa', 'self-driving', 'cars', 'smart', 'recommendations', 'Netflix', ',', 'AI', 'everywhere', '.', 'It', 'helps', 'businesses', 'make', 'better', 'decisions', ',', 'doctors', 'diagnose', 'diseases', 'accurately', ',', 'even', 'helps', 'artists', 'generate', 'new', 'forms', 'creativity', '.', 'However', ',', 'great', 'power', 'comes', 'responsibility', '.', 'Ethical', 'concerns', ',', 'data', 'privacy', ',', 'bias', 'AI', 'algorithms', 'important', 'issues', 'need', 'addressed', 'continue', 'advance', 'field', '.']\n"
          ]
        }
      ]
    },
    {
      "cell_type": "code",
      "source": [
        "from collections import Counter\n",
        "word_freq = Counter(filtered_words)\n",
        "for word,freq in word_freq.items():\n",
        "  print(f\"{word}: {freq}\")"
      ],
      "metadata": {
        "colab": {
          "base_uri": "https://localhost:8080/"
        },
        "id": "dG-Hqw5Rzuqk",
        "outputId": "833111ba-388d-4def-aa90-964326586b3e"
      },
      "execution_count": 48,
      "outputs": [
        {
          "output_type": "stream",
          "name": "stdout",
          "text": [
            "Artificial: 1\n",
            "Intelligence: 1\n",
            "transforming: 1\n",
            "world: 1\n",
            "around: 1\n",
            "us: 1\n",
            ".: 5\n",
            "From: 1\n",
            "voice: 1\n",
            "assistants: 1\n",
            "like: 1\n",
            "Siri: 1\n",
            "Alexa: 1\n",
            "self-driving: 1\n",
            "cars: 1\n",
            "smart: 1\n",
            "recommendations: 1\n",
            "Netflix: 1\n",
            ",: 6\n",
            "AI: 2\n",
            "everywhere: 1\n",
            "It: 1\n",
            "helps: 2\n",
            "businesses: 1\n",
            "make: 1\n",
            "better: 1\n",
            "decisions: 1\n",
            "doctors: 1\n",
            "diagnose: 1\n",
            "diseases: 1\n",
            "accurately: 1\n",
            "even: 1\n",
            "artists: 1\n",
            "generate: 1\n",
            "new: 1\n",
            "forms: 1\n",
            "creativity: 1\n",
            "However: 1\n",
            "great: 1\n",
            "power: 1\n",
            "comes: 1\n",
            "responsibility: 1\n",
            "Ethical: 1\n",
            "concerns: 1\n",
            "data: 1\n",
            "privacy: 1\n",
            "bias: 1\n",
            "algorithms: 1\n",
            "important: 1\n",
            "issues: 1\n",
            "need: 1\n",
            "addressed: 1\n",
            "continue: 1\n",
            "advance: 1\n",
            "field: 1\n"
          ]
        }
      ]
    },
    {
      "cell_type": "markdown",
      "source": [
        "Q2: Stemming and LemmaƟzaƟon\n",
        "1. Take the tokenized words from QuesƟon 1 (aŌer stopword removal).\n",
        "2. Apply stemming using NLTK's PorterStemmer and LancasterStemmer.\n",
        "3. Apply lemmaƟzaƟon using NLTK's WordNetLemmaƟzer.\n",
        "4. Compare and display results of both techniques."
      ],
      "metadata": {
        "id": "IjmWcmj2CTLg"
      }
    },
    {
      "cell_type": "code",
      "source": [
        "from nltk.stem import PorterStemmer, LancasterStemmer, WordNetLemmatizer\n"
      ],
      "metadata": {
        "id": "HMoO58KlCVl1"
      },
      "execution_count": 49,
      "outputs": []
    },
    {
      "cell_type": "code",
      "source": [
        "ps=PorterStemmer()\n",
        "for w in filtered_words:\n",
        "  print(w,\" : \",ps.stem(w))"
      ],
      "metadata": {
        "colab": {
          "base_uri": "https://localhost:8080/"
        },
        "id": "8r3FlbdPOmRs",
        "outputId": "efaa2048-3f9b-4b76-d30c-53e7843c6798"
      },
      "execution_count": 50,
      "outputs": [
        {
          "output_type": "stream",
          "name": "stdout",
          "text": [
            "Artificial  :  artifici\n",
            "Intelligence  :  intellig\n",
            "transforming  :  transform\n",
            "world  :  world\n",
            "around  :  around\n",
            "us  :  us\n",
            ".  :  .\n",
            "From  :  from\n",
            "voice  :  voic\n",
            "assistants  :  assist\n",
            "like  :  like\n",
            "Siri  :  siri\n",
            "Alexa  :  alexa\n",
            "self-driving  :  self-driv\n",
            "cars  :  car\n",
            "smart  :  smart\n",
            "recommendations  :  recommend\n",
            "Netflix  :  netflix\n",
            ",  :  ,\n",
            "AI  :  ai\n",
            "everywhere  :  everywher\n",
            ".  :  .\n",
            "It  :  it\n",
            "helps  :  help\n",
            "businesses  :  busi\n",
            "make  :  make\n",
            "better  :  better\n",
            "decisions  :  decis\n",
            ",  :  ,\n",
            "doctors  :  doctor\n",
            "diagnose  :  diagnos\n",
            "diseases  :  diseas\n",
            "accurately  :  accur\n",
            ",  :  ,\n",
            "even  :  even\n",
            "helps  :  help\n",
            "artists  :  artist\n",
            "generate  :  gener\n",
            "new  :  new\n",
            "forms  :  form\n",
            "creativity  :  creativ\n",
            ".  :  .\n",
            "However  :  howev\n",
            ",  :  ,\n",
            "great  :  great\n",
            "power  :  power\n",
            "comes  :  come\n",
            "responsibility  :  respons\n",
            ".  :  .\n",
            "Ethical  :  ethic\n",
            "concerns  :  concern\n",
            ",  :  ,\n",
            "data  :  data\n",
            "privacy  :  privaci\n",
            ",  :  ,\n",
            "bias  :  bia\n",
            "AI  :  ai\n",
            "algorithms  :  algorithm\n",
            "important  :  import\n",
            "issues  :  issu\n",
            "need  :  need\n",
            "addressed  :  address\n",
            "continue  :  continu\n",
            "advance  :  advanc\n",
            "field  :  field\n",
            ".  :  .\n"
          ]
        }
      ]
    },
    {
      "cell_type": "code",
      "source": [
        "ls=LancasterStemmer()\n",
        "for w in filtered_words:\n",
        "  print(w,\" : \",ls.stem(w))"
      ],
      "metadata": {
        "colab": {
          "base_uri": "https://localhost:8080/"
        },
        "id": "_UPK3dBnRKF5",
        "outputId": "1c6c2565-64ad-4d40-bf02-7e9a74d54f30"
      },
      "execution_count": 51,
      "outputs": [
        {
          "output_type": "stream",
          "name": "stdout",
          "text": [
            "Artificial  :  art\n",
            "Intelligence  :  intellig\n",
            "transforming  :  transform\n",
            "world  :  world\n",
            "around  :  around\n",
            "us  :  us\n",
            ".  :  .\n",
            "From  :  from\n",
            "voice  :  voic\n",
            "assistants  :  assist\n",
            "like  :  lik\n",
            "Siri  :  sir\n",
            "Alexa  :  alex\n",
            "self-driving  :  self-driving\n",
            "cars  :  car\n",
            "smart  :  smart\n",
            "recommendations  :  recommend\n",
            "Netflix  :  netflix\n",
            ",  :  ,\n",
            "AI  :  ai\n",
            "everywhere  :  everywh\n",
            ".  :  .\n",
            "It  :  it\n",
            "helps  :  help\n",
            "businesses  :  busy\n",
            "make  :  mak\n",
            "better  :  bet\n",
            "decisions  :  decid\n",
            ",  :  ,\n",
            "doctors  :  doct\n",
            "diagnose  :  diagnos\n",
            "diseases  :  diseas\n",
            "accurately  :  acc\n",
            ",  :  ,\n",
            "even  :  ev\n",
            "helps  :  help\n",
            "artists  :  art\n",
            "generate  :  gen\n",
            "new  :  new\n",
            "forms  :  form\n",
            "creativity  :  cre\n",
            ".  :  .\n",
            "However  :  howev\n",
            ",  :  ,\n",
            "great  :  gre\n",
            "power  :  pow\n",
            "comes  :  com\n",
            "responsibility  :  respons\n",
            ".  :  .\n",
            "Ethical  :  eth\n",
            "concerns  :  concern\n",
            ",  :  ,\n",
            "data  :  dat\n",
            "privacy  :  priv\n",
            ",  :  ,\n",
            "bias  :  bia\n",
            "AI  :  ai\n",
            "algorithms  :  algorithm\n",
            "important  :  import\n",
            "issues  :  issu\n",
            "need  :  nee\n",
            "addressed  :  address\n",
            "continue  :  continu\n",
            "advance  :  adv\n",
            "field  :  field\n",
            ".  :  .\n"
          ]
        }
      ]
    },
    {
      "cell_type": "code",
      "source": [
        "nltk.download('wordnet')\n",
        "wnl=WordNetLemmatizer()\n",
        "for w in filtered_words:\n",
        "  print(w,\" : \",wnl.lemmatize(w))"
      ],
      "metadata": {
        "colab": {
          "base_uri": "https://localhost:8080/"
        },
        "id": "K5oZF8VsSFPB",
        "outputId": "70c06160-2972-4aae-88a5-d10c036cb811"
      },
      "execution_count": 52,
      "outputs": [
        {
          "output_type": "stream",
          "name": "stdout",
          "text": [
            "Artificial  :  Artificial\n",
            "Intelligence  :  Intelligence\n",
            "transforming  :  transforming\n",
            "world  :  world\n",
            "around  :  around\n",
            "us  :  u\n",
            ".  :  .\n",
            "From  :  From\n",
            "voice  :  voice\n",
            "assistants  :  assistant\n",
            "like  :  like\n",
            "Siri  :  Siri\n",
            "Alexa  :  Alexa\n",
            "self-driving  :  self-driving\n",
            "cars  :  car\n",
            "smart  :  smart\n",
            "recommendations  :  recommendation\n",
            "Netflix  :  Netflix\n",
            ",  :  ,\n",
            "AI  :  AI\n",
            "everywhere  :  everywhere\n",
            ".  :  .\n",
            "It  :  It\n",
            "helps  :  help\n",
            "businesses  :  business\n",
            "make  :  make\n",
            "better  :  better\n",
            "decisions  :  decision\n",
            ",  :  ,\n",
            "doctors  :  doctor\n",
            "diagnose  :  diagnose\n",
            "diseases  :  disease\n",
            "accurately  :  accurately\n",
            ",  :  ,\n",
            "even  :  even\n",
            "helps  :  help\n",
            "artists  :  artist\n",
            "generate  :  generate\n",
            "new  :  new\n",
            "forms  :  form\n",
            "creativity  :  creativity\n",
            ".  :  .\n",
            "However  :  However\n",
            ",  :  ,\n",
            "great  :  great\n",
            "power  :  power\n",
            "comes  :  come\n",
            "responsibility  :  responsibility\n",
            ".  :  .\n",
            "Ethical  :  Ethical\n",
            "concerns  :  concern\n",
            ",  :  ,\n",
            "data  :  data\n",
            "privacy  :  privacy\n",
            ",  :  ,\n",
            "bias  :  bias\n",
            "AI  :  AI\n",
            "algorithms  :  algorithm\n",
            "important  :  important\n",
            "issues  :  issue\n",
            "need  :  need\n",
            "addressed  :  addressed\n",
            "continue  :  continue\n",
            "advance  :  advance\n",
            "field  :  field\n",
            ".  :  .\n"
          ]
        },
        {
          "output_type": "stream",
          "name": "stderr",
          "text": [
            "[nltk_data] Downloading package wordnet to /root/nltk_data...\n",
            "[nltk_data]   Package wordnet is already up-to-date!\n"
          ]
        }
      ]
    },
    {
      "cell_type": "markdown",
      "source": [
        "1. Take their original text from QuesƟon 1.\n",
        "2. Use regular expressions to:\n",
        "a. Extract all words with more than 5 leƩers.\n",
        "b. Extract all numbers (if any exist in their text).\n",
        "c. Extract all capitalized words.\n",
        "3. Use text spliƫng techniques to:\n",
        "a. Split the text into words containing only alphabets (removing digits and special\n",
        "characters).\n",
        "b. Extract words starƟng with a vowel.\n"
      ],
      "metadata": {
        "id": "JQMw4A9X2voy"
      }
    },
    {
      "cell_type": "code",
      "source": [
        "text2 = \"\"\"\n",
        "On 5th April 2024, Apple Inc. announced its latest iPhone 15 Pro Max, priced at $1199.\n",
        "The event was held at 10:00 AM PST in Cupertino, California.\n",
        "Nearly 5 million people viewed the livestream within the first 24 hours.\n",
        "Tesla also revealed its quarterly report showing a revenue of $23.3 billion in Q1 2024.\n",
        "Microsoft's Azure platform saw a 17% growth year-over-year, while Amazon Web Services reported a 15% rise.\n",
        "Next year, on January 10th, 2025, CES will return to Las Vegas with over 180,000 attendees expected.\n",
        "\"\"\"\n"
      ],
      "metadata": {
        "id": "1qafxdwtTjRQ"
      },
      "execution_count": 56,
      "outputs": []
    },
    {
      "cell_type": "code",
      "source": [
        "import re\n",
        "words_5plus = re.findall(r'\\b\\w{6,}\\b', text2)\n",
        "print(words_5plus)\n"
      ],
      "metadata": {
        "colab": {
          "base_uri": "https://localhost:8080/"
        },
        "id": "0ULNw4ay2xKy",
        "outputId": "9fb05470-53f1-4e23-b978-33a97e04dcc9"
      },
      "execution_count": 57,
      "outputs": [
        {
          "output_type": "stream",
          "name": "stdout",
          "text": [
            "['announced', 'latest', 'iPhone', 'priced', 'Cupertino', 'California', 'Nearly', 'million', 'people', 'viewed', 'livestream', 'within', 'revealed', 'quarterly', 'report', 'showing', 'revenue', 'billion', 'Microsoft', 'platform', 'growth', 'Amazon', 'Services', 'reported', 'January', 'return', 'attendees', 'expected']\n"
          ]
        }
      ]
    },
    {
      "cell_type": "code",
      "source": [
        "digits=re.findall(r'\\b\\d+\\b',text2)\n",
        "print(digits)"
      ],
      "metadata": {
        "colab": {
          "base_uri": "https://localhost:8080/"
        },
        "id": "4BiI5HOy75MQ",
        "outputId": "1b0d4413-73cd-4a3b-ed43-f610063e5502"
      },
      "execution_count": 58,
      "outputs": [
        {
          "output_type": "stream",
          "name": "stdout",
          "text": [
            "['2024', '15', '1199', '10', '00', '5', '24', '23', '3', '2024', '17', '15', '2025', '180', '000']\n"
          ]
        }
      ]
    },
    {
      "cell_type": "code",
      "source": [
        "capital=re.findall(r'\\b[A-Z][a-z]*\\b',text2)\n",
        "print(capital)"
      ],
      "metadata": {
        "colab": {
          "base_uri": "https://localhost:8080/"
        },
        "id": "kGOi7xX1TsuE",
        "outputId": "a9a0e620-abd8-43db-a153-0b8b84c0147d"
      },
      "execution_count": 61,
      "outputs": [
        {
          "output_type": "stream",
          "name": "stdout",
          "text": [
            "['On', 'April', 'Apple', 'Inc', 'Pro', 'Max', 'The', 'Cupertino', 'California', 'Nearly', 'Tesla', 'Microsoft', 'Azure', 'Amazon', 'Web', 'Services', 'Next', 'January', 'Las', 'Vegas']\n"
          ]
        }
      ]
    },
    {
      "cell_type": "code",
      "source": [
        "alphabets=re.findall(r'\\b[a-zA-Z]+\\b', text)\n",
        "print(alphabets)\n"
      ],
      "metadata": {
        "colab": {
          "base_uri": "https://localhost:8080/"
        },
        "id": "K3TuPaH2ZQ-L",
        "outputId": "92b20659-6565-4644-e494-4b7b1ea33d3a"
      },
      "execution_count": 62,
      "outputs": [
        {
          "output_type": "stream",
          "name": "stdout",
          "text": [
            "['Artificial', 'Intelligence', 'is', 'transforming', 'the', 'world', 'around', 'us', 'From', 'voice', 'assistants', 'like', 'Siri', 'and', 'Alexa', 'to', 'self', 'driving', 'cars', 'and', 'smart', 'recommendations', 'on', 'Netflix', 'AI', 'is', 'everywhere', 'It', 'helps', 'businesses', 'make', 'better', 'decisions', 'doctors', 'diagnose', 'diseases', 'more', 'accurately', 'and', 'even', 'helps', 'artists', 'generate', 'new', 'forms', 'of', 'creativity', 'However', 'with', 'great', 'power', 'comes', 'responsibility', 'Ethical', 'concerns', 'data', 'privacy', 'and', 'bias', 'in', 'AI', 'algorithms', 'are', 'important', 'issues', 'that', 'need', 'to', 'be', 'addressed', 'as', 'we', 'continue', 'to', 'advance', 'in', 'this', 'field']\n"
          ]
        }
      ]
    },
    {
      "cell_type": "markdown",
      "source": [],
      "metadata": {
        "id": "QrlgpuI_ZlJH"
      }
    },
    {
      "cell_type": "code",
      "source": [
        "re.findall(r'\\b[aeiouAEIOU][a-zA-Z]*\\b', text2)\n"
      ],
      "metadata": {
        "colab": {
          "base_uri": "https://localhost:8080/"
        },
        "id": "c7j35_M0bvaR",
        "outputId": "0d07f18a-99bf-40d9-b3cd-a8611bf6d62f"
      },
      "execution_count": 63,
      "outputs": [
        {
          "output_type": "execute_result",
          "data": {
            "text/plain": [
              "['On',\n",
              " 'April',\n",
              " 'Apple',\n",
              " 'Inc',\n",
              " 'announced',\n",
              " 'its',\n",
              " 'iPhone',\n",
              " 'at',\n",
              " 'event',\n",
              " 'at',\n",
              " 'AM',\n",
              " 'in',\n",
              " 'also',\n",
              " 'its',\n",
              " 'a',\n",
              " 'of',\n",
              " 'in',\n",
              " 'Azure',\n",
              " 'a',\n",
              " 'over',\n",
              " 'Amazon',\n",
              " 'a',\n",
              " 'on',\n",
              " 'over',\n",
              " 'attendees',\n",
              " 'expected']"
            ]
          },
          "metadata": {},
          "execution_count": 63
        }
      ]
    },
    {
      "cell_type": "code",
      "source": [
        "import re\n",
        "\n",
        "def custom_tokenize(text):\n",
        "    text = re.sub(r'\\b[\\w\\.-]+@[\\w\\.-]+\\.\\w+\\b', '<EMAIL>', text)\n",
        "    text = re.sub(r'https?://\\S+|www\\.\\S+', '<URL>', text)\n",
        "    text = re.sub(r'(\\+91\\s?\\d{10}|\\d{3}-\\d{3}-\\d{4})', '<PHONE>', text)\n",
        "\n",
        "    pattern = r\"\"\"\n",
        "        (?:\\d+\\.\\d+)\n",
        "        | (?:\\w+(?:'\\w+)?)\n",
        "        | (?:\\w+(?:-\\w+)+)\n",
        "        | (?:<EMAIL>|<URL>|<PHONE>)\n",
        "    \"\"\"\n",
        "\n",
        "    tokens = re.findall(pattern, text, flags=re.VERBOSE)\n",
        "    return tokens\n",
        "\n",
        "text = \"\"\"\n",
        "Contact us at support@example.com or visit https://www.example.com for more info.\n",
        "Call 123-456-7890 or +91 9876543210. This isn't a test—it’s a state-of-the-art solution.\n",
        "Price: 3.14 USD.\n",
        "\"\"\"\n",
        "\n",
        "tokens = custom_tokenize(text)\n",
        "print(tokens)\n"
      ],
      "metadata": {
        "colab": {
          "base_uri": "https://localhost:8080/"
        },
        "id": "_ZF5NR39j2W5",
        "outputId": "9116f90f-c206-4b25-df4a-aaff83df0038"
      },
      "execution_count": 65,
      "outputs": [
        {
          "output_type": "stream",
          "name": "stdout",
          "text": [
            "['Contact', 'us', 'at', '<EMAIL>', 'or', 'visit', '<URL>', 'for', 'more', 'info', 'Call', '<PHONE>', 'or', '<PHONE>', 'This', \"isn't\", 'a', 'test', 'it', 's', 'a', 'state', 'of', 'the', 'art', 'solution', 'Price', '3.14', 'USD']\n"
          ]
        }
      ]
    }
  ]
}